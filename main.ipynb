{
  "nbformat": 4,
  "nbformat_minor": 0,
  "metadata": {
    "colab": {
      "provenance": [],
      "gpuType": "T4"
    },
    "kernelspec": {
      "name": "python3",
      "display_name": "Python 3"
    },
    "language_info": {
      "name": "python"
    },
    "accelerator": "GPU"
  },
  "cells": [
    {
      "cell_type": "code",
      "execution_count": null,
      "metadata": {
        "id": "aMS3MbOlpA6D"
      },
      "outputs": [],
      "source": [
        "!git clone https://github.com/paulytito/trabajo_final.git"
      ]
    },
    {
      "cell_type": "code",
      "source": [
        "!pip install -r /content/trabajo_final/requisitos.txt"
      ],
      "metadata": {
        "id": "CPO89ltXpqQE"
      },
      "execution_count": null,
      "outputs": []
    },
    {
      "cell_type": "code",
      "source": [
        "!python /content/trabajo_final/yolo5MultiplePolygon.py -i /content/trabajo_final/video.mp4 -o resultado.mp4 -fps 5"
      ],
      "metadata": {
        "id": "k7obcHX1qH-d"
      },
      "execution_count": null,
      "outputs": []
    },
    {
      "cell_type": "code",
      "source": [
        "import pandas as pd\n",
        "import matplotlib.pyplot as plt\n",
        "import seaborn as sns\n",
        "\n",
        "df = pd.read_csv('/content/resultadosFPS5.csv')\n",
        "df.set_index('Tiempo', inplace=True)\n",
        "\n",
        "plt.figure(figsize=(10, 6))\n",
        "sns.lineplot(data=df)\n",
        "plt.title('Cantidad de personas en los polígonos a lo largo del tiempo')\n",
        "plt.xlabel('Tiempo')\n",
        "plt.ylabel('Cantidad de Personas')\n",
        "plt.show()"
      ],
      "metadata": {
        "id": "CEfWagZS9WOV"
      },
      "execution_count": null,
      "outputs": []
    },
    {
      "cell_type": "code",
      "source": [
        "plt.figure(figsize=(10, 6))\n",
        "df.plot(kind='bar', stacked=True)\n",
        "plt.title('Cantidad de personas en los polígonos a lo largo del tiempo(Área Apilada)')\n",
        "plt.xlabel('Tiempo')\n",
        "plt.ylabel('Cantidad de Personas')\n",
        "plt.show()"
      ],
      "metadata": {
        "id": "QP5W0cK-_I69"
      },
      "execution_count": null,
      "outputs": []
    },
    {
      "cell_type": "code",
      "source": [
        "#Calcular el promedio y la desviación estándard de cada polígono\n",
        "mean_values = df.mean()\n",
        "std_values = df.std()\n",
        "\n",
        "#Graficar el promedio y la desviación estándard\n",
        "plt.figure(figsize=(10, 6))\n",
        "mean_values.plot(kind='bar', yerr=std_values, capsize=5)\n",
        "plt.title('Promedio y Desviación Estandard de la cantidad de personas en Polígonos')\n",
        "plt.xlabel('Polígonos')\n",
        "plt.ylabel('Cantidad de Personas')\n",
        "plt.show()\n",
        "\n",
        "#Histograma para el polígono 4\n",
        "plt.figure(figsize=(10, 6))\n",
        "sns.histplot(data=df, x='Poligono 4', bins=10, kde=True)\n",
        "plt.title('Histograma de la Cantidad de personas en el Polígono 4')\n",
        "plt.xlabel('Cantidad de Personas')\n",
        "plt.ylabel('Frecuencia')\n",
        "plt.show()\n",
        "\n",
        "#Crear un boxplot para todos los polígonos\n",
        "plt.figure(figsize=(10, 6))\n",
        "sns.boxplot(data=df)\n",
        "plt.title('Boxplot de la Cantidad de Personas en los Polígonos')\n",
        "plt.xlabel('Polígonos')\n",
        "plt.ylabel('Cantidad de Personas')\n",
        "plt.show()\n",
        "\n",
        "#Calcular la Matriz de correlación\n",
        "correlation_matrix = df.corr()\n",
        "\n",
        "#Crear un mapa de calor de las correlaciones\n",
        "plt.figure(figsize=(10, 6))\n",
        "sns.heatmap(data=correlation_matrix, annot=True, cmap='coolwarm')\n",
        "plt.title('Matriz de correlación entre Polígonos')\n",
        "plt.show()"
      ],
      "metadata": {
        "id": "khtuc8EG_7iu"
      },
      "execution_count": null,
      "outputs": []
    }
  ]
}